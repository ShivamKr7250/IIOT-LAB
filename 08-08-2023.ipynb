{
 "cells": [
  {
   "cell_type": "code",
   "execution_count": 1,
   "id": "5532202a",
   "metadata": {},
   "outputs": [
    {
     "ename": "SyntaxError",
     "evalue": "invalid syntax (3433433984.py, line 1)",
     "output_type": "error",
     "traceback": [
      "\u001b[1;36m  Cell \u001b[1;32mIn[1], line 1\u001b[1;36m\u001b[0m\n\u001b[1;33m    //Decorator\u001b[0m\n\u001b[1;37m    ^\u001b[0m\n\u001b[1;31mSyntaxError\u001b[0m\u001b[1;31m:\u001b[0m invalid syntax\n"
     ]
    }
   ],
   "source": [
    "//Decorator\n"
   ]
  },
  {
   "cell_type": "code",
   "execution_count": 3,
   "id": "e805976c",
   "metadata": {},
   "outputs": [
    {
     "name": "stdout",
     "output_type": "stream",
     "text": [
      "Ram Ram Shyam\n"
     ]
    }
   ],
   "source": [
    "def decor(func):\n",
    "    def inner(name):\n",
    "        if name == \"Shyam\":\n",
    "            print(\"Ram Ram Shyam\")\n",
    "        else:\n",
    "            func(name)\n",
    "    return inner\n",
    "\n",
    "@decor\n",
    "def wish(name):\n",
    "    print(\"Hello\", name, \"Good Morning\")\n",
    "    \n",
    "wish(\"Shyam\")"
   ]
  },
  {
   "cell_type": "code",
   "execution_count": 4,
   "id": "ab36c9a6",
   "metadata": {},
   "outputs": [
    {
     "ename": "SyntaxError",
     "evalue": "invalid syntax (3093846400.py, line 1)",
     "output_type": "error",
     "traceback": [
      "\u001b[1;36m  Cell \u001b[1;32mIn[4], line 1\u001b[1;36m\u001b[0m\n\u001b[1;33m    WAP to divide 2 number but when user gives 0 as input print it is not divisible\u001b[0m\n\u001b[1;37m        ^\u001b[0m\n\u001b[1;31mSyntaxError\u001b[0m\u001b[1;31m:\u001b[0m invalid syntax\n"
     ]
    }
   ],
   "source": [
    "WAP to divide 2 number but when user gives 0 as input print it is not divisible"
   ]
  },
  {
   "cell_type": "code",
   "execution_count": 20,
   "id": "bd6c709c",
   "metadata": {},
   "outputs": [
    {
     "name": "stdout",
     "output_type": "stream",
     "text": [
      "1.0\n"
     ]
    }
   ],
   "source": [
    "def deco(func):\n",
    "    def inner(a,b):\n",
    "        if b==0:\n",
    "            print(\"0 is not divisible\")\n",
    "        else:\n",
    "            func(a,b)\n",
    "    return inner\n",
    "        \n",
    "@deco\n",
    "def divide(a,b):\n",
    "    print(a/b)\n",
    "    \n",
    "divide(8,8)"
   ]
  },
  {
   "cell_type": "code",
   "execution_count": null,
   "id": "03ddb618",
   "metadata": {},
   "outputs": [],
   "source": [
    "# 17-08-2023"
   ]
  },
  {
   "cell_type": "code",
   "execution_count": 4,
   "id": "ef259965",
   "metadata": {},
   "outputs": [
    {
     "name": "stdout",
     "output_type": "stream",
     "text": [
      "File Name abc.txt\n",
      "File Mode r\n",
      "Is File Readable: True\n",
      "Is File Writeable: False\n",
      "Is File Closed: False\n",
      "Is File Closed: True\n"
     ]
    }
   ],
   "source": [
    "f = open(\"abc.txt\")\n",
    "print(\"File Name\", f.name)\n",
    "print(\"File Mode\", f.mode)\n",
    "print(\"Is File Readable:\", f.readable())\n",
    "print(\"Is File Writeable:\", f.writable())\n",
    "print(\"Is File Closed:\", f.closed)\n",
    "f.close()\n",
    "print(\"Is File Closed:\", f.closed)"
   ]
  },
  {
   "cell_type": "code",
   "execution_count": 5,
   "id": "8d0883a6",
   "metadata": {},
   "outputs": [
    {
     "name": "stdout",
     "output_type": "stream",
     "text": [
      "Data Written to File Successfully\n"
     ]
    }
   ],
   "source": [
    "f=open(\"abc.txt\", \"a\")\n",
    "f.write(\"Hello\\n\")\n",
    "f.write(\"Ram Ram \\n\")\n",
    "f.write(\"Pardhan Ji \\n\")\n",
    "print(\"Data Written to File Successfully\")\n",
    "f.close()"
   ]
  },
  {
   "cell_type": "code",
   "execution_count": 8,
   "id": "ec95b72a",
   "metadata": {},
   "outputs": [
    {
     "name": "stdout",
     "output_type": "stream",
     "text": [
      "List of Lines Written\n"
     ]
    }
   ],
   "source": [
    "f=open(\"abc.txt\", \"w\")\n",
    "list=[\"Rama\\n\",\"shyam\\n\", \"hari\\n\", \"krishan\\n\" ]\n",
    "f.writelines(list)\n",
    "print(\"List of Lines Written\")\n",
    "f.close()"
   ]
  },
  {
   "cell_type": "code",
   "execution_count": 9,
   "id": "74ce3827",
   "metadata": {},
   "outputs": [
    {
     "name": "stdout",
     "output_type": "stream",
     "text": [
      "Rama\n",
      "shyam\n"
     ]
    }
   ],
   "source": [
    "f=open(\"abc.txt\", \"r\")\n",
    "data=f.read(10)\n",
    "print(data)\n",
    "f.close()"
   ]
  },
  {
   "cell_type": "code",
   "execution_count": 10,
   "id": "add3028f",
   "metadata": {},
   "outputs": [],
   "source": [
    "# WAP to find whetere the given file is present or not if the file is not present print file is not present and if file exist print the value "
   ]
  },
  {
   "cell_type": "code",
   "execution_count": 11,
   "id": "0ed46f64",
   "metadata": {},
   "outputs": [
    {
     "name": "stdout",
     "output_type": "stream",
     "text": [
      "File contents:\n",
      "Rama\n",
      "shyam\n",
      "hari\n",
      "krishan\n",
      "\n"
     ]
    }
   ],
   "source": [
    "def check_file_presence(filename):\n",
    "    try:\n",
    "        with open(filename, 'r') as file:\n",
    "            file_contents = file.read()\n",
    "            print(\"File contents:\")\n",
    "            print(file_contents)\n",
    "    except FileNotFoundError:\n",
    "        print(\"File is not present.\")\n",
    "\n",
    "file_to_check = \"abc.txt\"  \n",
    "\n",
    "check_file_presence(file_to_check)\n"
   ]
  },
  {
   "cell_type": "code",
   "execution_count": 15,
   "id": "292505c8",
   "metadata": {},
   "outputs": [
    {
     "ename": "ModuleNotFoundError",
     "evalue": "No module named 'os.sys'; 'os' is not a package",
     "output_type": "error",
     "traceback": [
      "\u001b[1;31m---------------------------------------------------------------------------\u001b[0m",
      "\u001b[1;31mModuleNotFoundError\u001b[0m                       Traceback (most recent call last)",
      "Cell \u001b[1;32mIn[15], line 1\u001b[0m\n\u001b[1;32m----> 1\u001b[0m \u001b[39mimport\u001b[39;00m \u001b[39mos\u001b[39;00m\u001b[39m.\u001b[39;00m\u001b[39msys\u001b[39;00m \n\u001b[0;32m      2\u001b[0m fname \u001b[39m=\u001b[39m \u001b[39minput\u001b[39m(\u001b[39m\"\u001b[39m\u001b[39mEnter File Name: \u001b[39m\u001b[39m\"\u001b[39m)\n\u001b[0;32m      3\u001b[0m \u001b[39mif\u001b[39;00m os\u001b[39m.\u001b[39mpath\u001b[39m.\u001b[39misfile(fname):\n",
      "\u001b[1;31mModuleNotFoundError\u001b[0m: No module named 'os.sys'; 'os' is not a package"
     ]
    }
   ],
   "source": [
    "\n",
    "import os.sys \n",
    "fname = input(\"Enter File Name: \")\n",
    "if os.path.isfile(fname):\n",
    "   print(\"File Exist:\", fname )\n",
    "   f=open(fname, \"r\")\n",
    "else:\n",
    "   print(\"File Does not Exit:\", fname)\n",
    "   sys.exit(0)\n",
    "print(\"The Content of File is:\")\n",
    "data=f.read()\n",
    "print()\n",
    "   "
   ]
  },
  {
   "cell_type": "code",
   "execution_count": 16,
   "id": "73566939",
   "metadata": {},
   "outputs": [
    {
     "name": "stdout",
     "output_type": "stream",
     "text": [
      "Is File is Closed: False\n",
      "Is File Closed True\n"
     ]
    }
   ],
   "source": [
    "with open(\"abc.txt\", \"w\") as f:\n",
    "    f.write(\"Hare Krishna\")\n",
    "    f.write(\"Hare Rama\")\n",
    "    print(\"Is File is Closed:\" , f.closed)\n",
    "print(\"Is File Closed\", f.closed)"
   ]
  },
  {
   "cell_type": "code",
   "execution_count": null,
   "id": "cfcf5cbf",
   "metadata": {},
   "outputs": [],
   "source": [
    "\n"
   ]
  },
  {
   "cell_type": "code",
   "execution_count": 6,
   "id": "46e081c3",
   "metadata": {},
   "outputs": [
    {
     "name": "stdout",
     "output_type": "stream",
     "text": [
      "An opaque crystalline material usually of high strength with good electrical and thermal conductivities, ductility and reflectivity.\n"
     ]
    }
   ],
   "source": [
    "import json\n",
    "from difflib import get_close_matches\n",
    "\n",
    "data = json.load(open(\"data.json\"))\n",
    "\n",
    "def translate(w):\n",
    "    w = w.lower()\n",
    "    if w in data:\n",
    "        return data[w]\n",
    "    elif len(get_close_matches(w,data.keys()))>0:\n",
    "        yn = input(\"didi you mean %s insted? Enter Y if yes, on N for no:\" %get_close_matches(w,data.keys())[0])\n",
    "        if yn == \"Y\":\n",
    "            return data[get_close_matches(w,data.keys())[0]]\n",
    "        elif yn == \"N\":\n",
    "            return \"the word does'nt exist. please double check it.\"\n",
    "        else:\n",
    "            return\" We didn't understand your entry\"\n",
    "    else:\n",
    "        return \"the word doesn't exist . please double check it\"\n",
    "\n",
    "    \n",
    "word = input(\"enter word:\")\n",
    "output = translate(word)\n",
    "\n",
    "if type(output) == list:\n",
    "    for item in output:\n",
    "        print(item)\n",
    "else:\n",
    "    print(output)\n"
   ]
  },
  {
   "cell_type": "code",
   "execution_count": 1,
   "id": "dd31ba08",
   "metadata": {},
   "outputs": [],
   "source": [
    "#24/08/2023"
   ]
  },
  {
   "cell_type": "code",
   "execution_count": 2,
   "id": "2d8c5e5c",
   "metadata": {},
   "outputs": [
    {
     "name": "stdout",
     "output_type": "stream",
     "text": [
      "hello\n"
     ]
    }
   ],
   "source": [
    "x =10\n",
    "if x ==10:\n",
    " print(\"hello\")"
   ]
  },
  {
   "cell_type": "code",
   "execution_count": 3,
   "id": "fc898419",
   "metadata": {},
   "outputs": [
    {
     "ename": "ZeroDivisionError",
     "evalue": "division by zero",
     "output_type": "error",
     "traceback": [
      "\u001b[1;31m---------------------------------------------------------------------------\u001b[0m",
      "\u001b[1;31mZeroDivisionError\u001b[0m                         Traceback (most recent call last)",
      "Cell \u001b[1;32mIn[3], line 1\u001b[0m\n\u001b[1;32m----> 1\u001b[0m \u001b[39mprint\u001b[39m(\u001b[39m10\u001b[39;49m\u001b[39m/\u001b[39;49m\u001b[39m0\u001b[39;49m)\n",
      "\u001b[1;31mZeroDivisionError\u001b[0m: division by zero"
     ]
    }
   ],
   "source": [
    "print(10/0)"
   ]
  },
  {
   "cell_type": "code",
   "execution_count": 8,
   "id": "5ee27ffe",
   "metadata": {},
   "outputs": [
    {
     "name": "stdout",
     "output_type": "stream",
     "text": [
      "st-1\n",
      "2.5\n",
      "You are Dividing by zero\n",
      "st-3\n"
     ]
    }
   ],
   "source": [
    "print(\"st-1\")\n",
    "try:\n",
    "  print(10/4)\n",
    "  print(10/0)\n",
    "  print(10/6)\n",
    "except ZeroDivisionError:\n",
    "  print(\"You are Dividing by zero\")\n",
    "print(\"st-3\")\n",
    "\n",
    "#we can have multiple excepation in try block so we can use multiple excepation handling concept to resolve it \n",
    "# the format to implementing the execpation handaling is by putting the expection case in try block and put the soltuion of it on except block"
   ]
  },
  {
   "cell_type": "code",
   "execution_count": 9,
   "id": "bbe87184",
   "metadata": {},
   "outputs": [
    {
     "name": "stdout",
     "output_type": "stream",
     "text": [
      "exception raised : division by zero\n"
     ]
    }
   ],
   "source": [
    "try:\n",
    " print(10/0)\n",
    "except ZeroDivisionError as msg:\n",
    " print(\"exception raised :\", msg)"
   ]
  },
  {
   "cell_type": "code",
   "execution_count": 11,
   "id": "6d0be0bd",
   "metadata": {},
   "outputs": [
    {
     "name": "stdout",
     "output_type": "stream",
     "text": [
      "Please provide int value only\n"
     ]
    }
   ],
   "source": [
    "try:\n",
    "    x = int(input(\"Enter the First Number: \"))\n",
    "    y = int(input(\"Enter the First Number: \"))\n",
    "    print(x/y)\n",
    "except ZeroDivisionError:\n",
    "    print(\"Can't Divide with zero\")\n",
    "except ValueError:\n",
    "    print(\"Please provide int value only\")"
   ]
  },
  {
   "cell_type": "code",
   "execution_count": 13,
   "id": "1bbf9fb9",
   "metadata": {},
   "outputs": [
    {
     "ename": "TooOldException",
     "evalue": "Plz wait some more time you will get best match",
     "output_type": "error",
     "traceback": [
      "\u001b[1;31m---------------------------------------------------------------------------\u001b[0m",
      "\u001b[1;31mTooOldException\u001b[0m                           Traceback (most recent call last)",
      "Cell \u001b[1;32mIn[13], line 13\u001b[0m\n\u001b[0;32m     11\u001b[0m     \u001b[39mraise\u001b[39;00m TooYoungException(\u001b[39m\"\u001b[39m\u001b[39mPlz wait some more time you will get best match\u001b[39m\u001b[39m\"\u001b[39m)\n\u001b[0;32m     12\u001b[0m \u001b[39melif\u001b[39;00m age\u001b[39m<\u001b[39m\u001b[39m18\u001b[39m:\n\u001b[1;32m---> 13\u001b[0m     \u001b[39mraise\u001b[39;00m TooOldException(\u001b[39m\"\u001b[39m\u001b[39mPlz wait some more time you will get best match\u001b[39m\u001b[39m\"\u001b[39m)\n\u001b[0;32m     14\u001b[0m \u001b[39melse\u001b[39;00m:\n\u001b[0;32m     15\u001b[0m     \u001b[39mprint\u001b[39m(\u001b[39m\"\u001b[39m\u001b[39mi dont know\u001b[39m\u001b[39m\"\u001b[39m)\n",
      "\u001b[1;31mTooOldException\u001b[0m: Plz wait some more time you will get best match"
     ]
    }
   ],
   "source": [
    "class TooYoungException(Exception):\n",
    "    def __init__(self,args):\n",
    "        self.msg = args\n",
    "\n",
    "class TooOldException(Exception):\n",
    "    def __init__(self,args):\n",
    "        self.msg = args\n",
    "\n",
    "age=int(input(\"Enter Age\"))\n",
    "if age>60:\n",
    "    raise TooYoungException(\"Plz wait some more time you will get best match\")\n",
    "elif age<18:\n",
    "    raise TooOldException(\"Plz wait some more time you will get best match\")\n",
    "else:\n",
    "    print(\"i dont know\")"
   ]
  },
  {
   "cell_type": "code",
   "execution_count": 1,
   "id": "50ae8afe",
   "metadata": {},
   "outputs": [],
   "source": [
    "class Employee:\n",
    "    def __init__(self):\n",
    "        self.eno=100\n",
    "        self.ename=\"Shivam\"\n",
    "        \n",
    "        "
   ]
  },
  {
   "cell_type": "code",
   "execution_count": 11,
   "id": "fa1ee745",
   "metadata": {},
   "outputs": [
    {
     "name": "stdout",
     "output_type": "stream",
     "text": [
      "{'c': 30, 'd': 40}\n"
     ]
    }
   ],
   "source": [
    "#inside Instance Method by using self variable \n",
    "class Test:\n",
    "        def __int__(self):\n",
    "               self.a=10\n",
    "               self.b=20\n",
    "        def m1(self):\n",
    "            self.c=30\n",
    "t=Test()\n",
    "t.m1()\n",
    "t.d=40\n",
    "print(t.__dict__)"
   ]
  },
  {
   "cell_type": "code",
   "execution_count": 1,
   "id": "a1dce759",
   "metadata": {},
   "outputs": [
    {
     "name": "stdout",
     "output_type": "stream",
     "text": [
      "{'a': 10, 'b': 20, 'c': 30, 'd': 40}\n",
      "{'a': 10, 'b': 20, 'c': 30}\n"
     ]
    }
   ],
   "source": [
    "class Test:\n",
    "    def __init__(self):\n",
    "        self.a=10\n",
    "        self.b=20\n",
    "        self.c=30\n",
    "        self.d=40\n",
    "    def display(self):\n",
    "        print(self.a)\n",
    "        print(self.b)\n",
    "    def m1(self):\n",
    "        del self.d\n",
    "\n",
    "t=Test()\n",
    "print(t.__dict__)\n",
    "t.m1()\n",
    "print(t.__dict__)"
   ]
  },
  {
   "cell_type": "code",
   "execution_count": 2,
   "id": "2db8ddaa",
   "metadata": {},
   "outputs": [
    {
     "name": "stdout",
     "output_type": "stream",
     "text": [
      "t1: 10 20\n",
      "t2: 10 20\n",
      "t1: 999 1212\n",
      "t2: 999 20\n"
     ]
    }
   ],
   "source": [
    "class Test:\n",
    "    x =10\n",
    "    def __init__(self):\n",
    "        self.y=20\n",
    "t1=Test()\n",
    "t2=Test()\n",
    "print('t1:', t1.x,t1.y)\n",
    "print('t2:', t2.x,t2.y)\n",
    "Test.x=999\n",
    "t1.y=1212\n",
    "print('t1:', t1.x,t1.y)\n",
    "print('t2:', t2.x,t2.y)"
   ]
  },
  {
   "cell_type": "code",
   "execution_count": 6,
   "id": "729830cf",
   "metadata": {},
   "outputs": [
    {
     "name": "stdout",
     "output_type": "stream",
     "text": [
      "38\n",
      "40\n",
      "The programming languages: ['Python']\n"
     ]
    }
   ],
   "source": [
    "class Person:\n",
    "    def __init__(self, name, age):\n",
    "        self.name = name\n",
    "        self.age = age\n",
    "\n",
    "    def get_older(self, year):\n",
    "        self.age += year\n",
    "\n",
    "class Programmer(Person):\n",
    "    def __init__(self, name, age, languages):\n",
    "        super().__init__(name, age)\n",
    "        self.languages = languages\n",
    "\n",
    "    def print_languages(self):\n",
    "        print(\"The programming languages: {}\".format(self.languages))\n",
    "p1 = Programmer(\"Mike\",38, [\"Python\"])\n",
    "\n",
    "print(p1.age)\n",
    "p1.get_older(2)  # Example usage of get_older method\n",
    "print(p1.age)\n",
    "p1.print_languages()"
   ]
  },
  {
   "cell_type": "code",
   "execution_count": 7,
   "id": "cf2fb343",
   "metadata": {},
   "outputs": [
    {
     "name": "stdout",
     "output_type": "stream",
     "text": [
      "Quack Quack ...\n"
     ]
    }
   ],
   "source": [
    "class Duck: \n",
    "    def talk(self):\n",
    "        print(\"Quack Quack ...\")\n",
    "\n",
    "class Dog:\n",
    "    def talk(self):\n",
    "        print(\"Bow Bow ..\")\n",
    "\n",
    "def f1(obj):\n",
    "    obj.talk()\n",
    "\n",
    "d = Duck()\n",
    "f1(d)"
   ]
  },
  {
   "cell_type": "code",
   "execution_count": 1,
   "id": "d818e00a",
   "metadata": {},
   "outputs": [],
   "source": [
    "#pandas"
   ]
  },
  {
   "cell_type": "code",
   "execution_count": 3,
   "id": "2b9afe5d",
   "metadata": {},
   "outputs": [
    {
     "name": "stdout",
     "output_type": "stream",
     "text": [
      "A    10\n",
      "B    20\n",
      "C    30\n",
      "D    40\n",
      "dtype: int64\n"
     ]
    }
   ],
   "source": [
    "import pandas as pd\n",
    "\n",
    "series = pd.Series([10,20,30,40],[\"A\",\"B\",\"C\",\"D\"])\n",
    "print(series)"
   ]
  },
  {
   "cell_type": "code",
   "execution_count": 4,
   "id": "860f45bb",
   "metadata": {},
   "outputs": [
    {
     "name": "stdout",
     "output_type": "stream",
     "text": [
      "20\n"
     ]
    },
    {
     "name": "stderr",
     "output_type": "stream",
     "text": [
      "C:\\Users\\supsh\\AppData\\Local\\Temp\\ipykernel_15808\\1479740005.py:1: FutureWarning: Series.__getitem__ treating keys as positions is deprecated. In a future version, integer keys will always be treated as labels (consistent with DataFrame behavior). To access a value by position, use `ser.iloc[pos]`\n",
      "  print(series[1])\n"
     ]
    }
   ],
   "source": [
    "print(series[1])"
   ]
  },
  {
   "cell_type": "code",
   "execution_count": null,
   "id": "fb7176ba",
   "metadata": {},
   "outputs": [],
   "source": []
  }
 ],
 "metadata": {
  "kernelspec": {
   "display_name": "Python 3 (ipykernel)",
   "language": "python",
   "name": "python3"
  },
  "language_info": {
   "codemirror_mode": {
    "name": "ipython",
    "version": 3
   },
   "file_extension": ".py",
   "mimetype": "text/x-python",
   "name": "python",
   "nbconvert_exporter": "python",
   "pygments_lexer": "ipython3",
   "version": "3.10.1"
  }
 },
 "nbformat": 4,
 "nbformat_minor": 5
}
