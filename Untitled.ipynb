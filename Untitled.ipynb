{
 "cells": [
  {
   "cell_type": "code",
   "execution_count": 1,
   "id": "37806346",
   "metadata": {},
   "outputs": [
    {
     "ename": "SyntaxError",
     "evalue": "invalid syntax (2624287552.py, line 1)",
     "output_type": "error",
     "traceback": [
      "\u001b[1;36m  Cell \u001b[1;32mIn[1], line 1\u001b[1;36m\u001b[0m\n\u001b[1;33m    WAP to get information from the user and print out on the screen employee id employee name employee number employee address martial status\u001b[0m\n\u001b[1;37m        ^\u001b[0m\n\u001b[1;31mSyntaxError\u001b[0m\u001b[1;31m:\u001b[0m invalid syntax\n"
     ]
    }
   ],
   "source": [
    "WAP to get information from the user and print out on the screen employee id employee name employee number employee address martial status\n"
   ]
  },
  {
   "cell_type": "code",
   "execution_count": 2,
   "id": "ea2aa2f7",
   "metadata": {},
   "outputs": [
    {
     "name": "stdout",
     "output_type": "stream",
     "text": [
      "Enter Your Employee Id2768\n",
      "Enter Your NameShivam Kumar\n",
      "Enter Your Phone Number9304961453\n",
      "Enter Your Salary4500000.00\n",
      "Enter Your AddressHostel 11\n",
      "Enter Your Martial StatusFalse\n",
      "2768 Shivam Kumar 9304961453 4500000.0 Hostel 11 True\n"
     ]
    }
   ],
   "source": [
    "employee_id = input(\"Enter Your Employee Id\")\n",
    "employee_id = int(employee_id)\n",
    "\n",
    "employee_name = input(\"Enter Your Name\")\n",
    "employee_name = str(employee_name)\n",
    "\n",
    "employee_number = input(\"Enter Your Phone Number\")\n",
    "employee_number = int(employee_number)\n",
    "\n",
    "employee_salary = input(\"Enter Your Salary\")\n",
    "employee_salary = float(employee_salary)\n",
    "\n",
    "employee_address = input(\"Enter Your Address\")\n",
    "employee_address = str(employee_address)\n",
    "\n",
    "employee_martial = bool(input(\"Choose Your Martial Status ? [True][False]:\"))\n",
    "\n",
    "print(employee_id, employee_name, employee_number, employee_salary, employee_address, employee_martial)"
   ]
  },
  {
   "cell_type": "code",
   "execution_count": 3,
   "id": "b9c57e4c",
   "metadata": {},
   "outputs": [
    {
     "name": "stdout",
     "output_type": "stream",
     "text": [
      "Hello Josias\n",
      "Welcome to india\n"
     ]
    }
   ],
   "source": [
    "print(\"Hello Josias\")\n",
    "print (\"Welcome to india\")"
   ]
  },
  {
   "cell_type": "code",
   "execution_count": 16,
   "id": "55046203",
   "metadata": {},
   "outputs": [
    {
     "name": "stdout",
     "output_type": "stream",
     "text": [
      "Hello Josias\n",
      "Welcome to india\n"
     ]
    }
   ],
   "source": [
    "print(\"Hello Josias\")\n",
    "print (\"Welcome to india\")"
   ]
  },
  {
   "cell_type": "code",
   "execution_count": null,
   "id": "f4cd9ab9",
   "metadata": {},
   "outputs": [],
   "source": [
    "WAP to find biggest number among 3 number by taking the user input"
   ]
  }
 ],
 "metadata": {
  "kernelspec": {
   "display_name": "Python 3 (ipykernel)",
   "language": "python",
   "name": "python3"
  },
  "language_info": {
   "codemirror_mode": {
    "name": "ipython",
    "version": 3
   },
   "file_extension": ".py",
   "mimetype": "text/x-python",
   "name": "python",
   "nbconvert_exporter": "python",
   "pygments_lexer": "ipython3",
   "version": "3.10.9"
  }
 },
 "nbformat": 4,
 "nbformat_minor": 5
}
